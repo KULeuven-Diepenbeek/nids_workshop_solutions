{
 "cells": [
  {
   "cell_type": "code",
   "execution_count": 3,
   "id": "55fcc06c",
   "metadata": {},
   "outputs": [
    {
     "name": "stdout",
     "output_type": "stream",
     "text": [
      "We extracted 1200 input samples.\n"
     ]
    }
   ],
   "source": [
    "import torch\n",
    "import numpy as np\n",
    "from lib.dataset import NIDSDataset\n",
    "\n",
    "# We define this function to make the solution easier\n",
    "def bytes_to_int(bytes_array):\n",
    "    \"\"\"\n",
    "    Calculate the integer value that is represented by the provided array of bytes.\n",
    "    Example: Input is [8, 0], which represents the hexadecimal 0x0800 number. This function will then calculate\n",
    "    8 * 16^2 + 0 * 16^1 = 2048\n",
    "\n",
    "    :param bytes_array: Array/list of bytes\n",
    "    :type bytes_array: ``list`` of ``int``\n",
    "    :return: The integer value represented by the array of bytes.\n",
    "    :rtype: ``int``\n",
    "    \"\"\"\n",
    "    n_bytes = len(bytes_array)\n",
    "\n",
    "    value = 0\n",
    "\n",
    "    for i in range(n_bytes):\n",
    "        value += (pow(256, n_bytes - i - 1) * bytes_array[i])\n",
    "\n",
    "    return value\n",
    "\n",
    "# Initialize the dataset\n",
    "dset = NIDSDataset(\n",
    "    packets_file=\"./data/dataset_packets_v2.npy\", \n",
    "    labels_file=\"./data/dataset_labels_v1.npy\")\n",
    "\n",
    "# The input_buffer contains all input features\n",
    "input_buffer = []\n",
    "label_buffer = []\n",
    "\n",
    "# Iterate over the dataset, and add all valid input features to the buffer\n",
    "# Accordingly, also extract the label for each of those packets and save it as well\n",
    "\n",
    "for packet in dset:\n",
    "    label = packet.get_label()\n",
    "    input_sample = np.zeros(64)\n",
    "    \n",
    "    # For each valid packet, extract the features to the input_sample and append the input_sample to the \n",
    "    # input_buffer. Do not forget the labels!\n",
    "    # Your code starts here\n",
    "    \n",
    "    counter = 0\n",
    "    for word in packet:\n",
    "        \n",
    "        if counter == 64:\n",
    "            input_buffer.append(input_sample)\n",
    "            label_buffer.append(label)\n",
    "            break\n",
    "        elif counter == 20:\n",
    "                protocol = bytes_to_int(word[3:])\n",
    "                \n",
    "                # If the transport protocol is not TCP or UDP, skip\n",
    "                if not ((protocol == 6) or (protocol == 17)):\n",
    "                    break\n",
    "        elif counter == 12:\n",
    "            ethertype = bytes_to_int(word[:2])\n",
    "            \n",
    "            # If the packet is not an IPv4 packet, we skip it\n",
    "            if ethertype != 0x0800:\n",
    "                break\n",
    "        \n",
    "        # Use word.shape[0] to account for word sizes smaller than for in the case of packets smaller than 64 bytes.\n",
    "        input_sample[counter:counter + word.shape[0]] = word\n",
    "        \n",
    "        if word.shape[0] < 4:\n",
    "            # We reached the end of the packet: Store it\n",
    "            input_buffer.append(input_sample)\n",
    "            label_buffer.append(label)\n",
    "            break\n",
    "        \n",
    "        counter += 4\n",
    "    \n",
    "print(\"We extracted {} input samples.\".format(len(input_buffer)))"
   ]
  },
  {
   "cell_type": "markdown",
   "id": "161672c2",
   "metadata": {},
   "source": [
    "For use in PyTorch, we need to present the input samples as *tensors*. Additionally, the input dimensionality needs to be slightly changed to be suitable for inference."
   ]
  },
  {
   "cell_type": "code",
   "execution_count": 4,
   "id": "1365ded3",
   "metadata": {},
   "outputs": [],
   "source": [
    "input_tensors = []\n",
    "\n",
    "for input_sample in input_buffer:\n",
    "    # Turn the Numpy array into a PyTorch tensor\n",
    "    input_tensor = torch.from_numpy(input_sample)\n",
    "    # Change input dimensionality\n",
    "    input_tensor = input_tensor.view(1, 1, 64)\n",
    "    \n",
    "    input_tensors.append(input_tensor)"
   ]
  },
  {
   "cell_type": "markdown",
   "id": "c1cfd326",
   "metadata": {},
   "source": [
    "### Inference\n",
    "\n",
    "Once we have extracted a set of input samples from the dataset, we can do inference on the neural network. For this excercise, we use a Convolutional Neural Network (CNN) with 1D convolutions that takes an input of size 64.\n",
    "\n",
    "As the network has already been trained, we only need to load it from the storage:"
   ]
  },
  {
   "cell_type": "code",
   "execution_count": 5,
   "id": "625e8aa4",
   "metadata": {},
   "outputs": [
    {
     "data": {
      "text/plain": [
       "ExampleCNN1D1x64(\n",
       "  (layer1): Sequential(\n",
       "    (0): Conv1d(1, 16, kernel_size=(5,), stride=(1,), padding=(2,))\n",
       "    (1): BatchNorm1d(16, eps=1e-05, momentum=0.95, affine=True, track_running_stats=True)\n",
       "    (2): ReLU()\n",
       "  )\n",
       "  (pool1): MaxPool1d(kernel_size=2, stride=2, padding=0, dilation=1, ceil_mode=False)\n",
       "  (layer2): Sequential(\n",
       "    (0): Conv1d(16, 32, kernel_size=(5,), stride=(1,), padding=(2,))\n",
       "    (1): BatchNorm1d(32, eps=1e-05, momentum=0.95, affine=True, track_running_stats=True)\n",
       "    (2): ReLU()\n",
       "  )\n",
       "  (pool2): MaxPool1d(kernel_size=2, stride=2, padding=0, dilation=1, ceil_mode=False)\n",
       "  (layer3): Sequential(\n",
       "    (0): Conv1d(32, 64, kernel_size=(5,), stride=(1,), padding=(2,))\n",
       "    (1): BatchNorm1d(64, eps=1e-05, momentum=0.95, affine=True, track_running_stats=True)\n",
       "    (2): ReLU()\n",
       "  )\n",
       "  (pool3): MaxPool1d(kernel_size=2, stride=2, padding=0, dilation=1, ceil_mode=False)\n",
       "  (layer4): Sequential(\n",
       "    (0): Conv1d(64, 96, kernel_size=(3,), stride=(1,), padding=(1,))\n",
       "    (1): BatchNorm1d(96, eps=1e-05, momentum=0.95, affine=True, track_running_stats=True)\n",
       "    (2): ReLU()\n",
       "  )\n",
       "  (pool4): MaxPool1d(kernel_size=2, stride=2, padding=0, dilation=1, ceil_mode=False)\n",
       "  (classification): Linear(in_features=384, out_features=13, bias=True)\n",
       ")"
      ]
     },
     "execution_count": 5,
     "metadata": {},
     "output_type": "execute_result"
    }
   ],
   "source": [
    "\n",
    "from lib.nn_model import ExampleCNN1D1x64\n",
    "\n",
    "model = ExampleCNN1D1x64(13)\n",
    "\n",
    "# Load the trained parameters\n",
    "model.load_state_dict(torch.load(\"./data/cnn1d1x64.model\"))\n",
    "\n",
    "# Set the Batch Normalization layers for inference\n",
    "model.eval()"
   ]
  },
  {
   "cell_type": "markdown",
   "id": "7243e093",
   "metadata": {},
   "source": [
    "The output of the above cell gives an overview of the used neural network. Finally, "
   ]
  },
  {
   "cell_type": "code",
   "execution_count": 6,
   "id": "4a0f2205",
   "metadata": {},
   "outputs": [],
   "source": [
    "import matplotlib.pyplot as plt\n",
    "\n",
    "predictions = []\n",
    "\n",
    "for input_tensor in input_tensors:\n",
    "    output_tensor = model(input_tensor.float())\n",
    "    \n",
    "    _, predicted = torch.max(output_tensor, 1)\n",
    "    predictions.append(predicted)\n",
    "\n",
    "predictions = torch.stack(predictions, 0).numpy()"
   ]
  },
  {
   "cell_type": "code",
   "execution_count": 7,
   "id": "08c3a241",
   "metadata": {},
   "outputs": [
    {
     "data": {
      "image/png": "[encoded data removed]",
      "text/plain": [
       "<Figure size 1440x1440 with 2 Axes>"
      ]
     },
     "metadata": {
      "needs_background": "light"
     },
     "output_type": "display_data"
    }
   ],
   "source": [
    "from sklearn.metrics import confusion_matrix, ConfusionMatrixDisplay\n",
    "from lib.nn_model import label_mapping\n",
    "\n",
    "# Transform the indices to their corresponding class label:\n",
    "labelled_predictions = []\n",
    "for prediction in predictions:\n",
    "    labelled_predictions.append(label_mapping[prediction[0]])\n",
    "\n",
    "# Choose output figure size\n",
    "_, ax = plt.subplots(figsize=(20, 20))\n",
    "\n",
    "# Calculate the confusion matrix\n",
    "cm = confusion_matrix(label_buffer, labelled_predictions, labels=label_mapping)\n",
    "\n",
    "# Display the confusion matrix\n",
    "disp = ConfusionMatrixDisplay(confusion_matrix=cm,\n",
    "                              display_labels=label_mapping)\n",
    "disp.plot(ax=ax)\n",
    "plt.show()"
   ]
  },
  {
   "cell_type": "code",
   "execution_count": 8,
   "id": "051aace7",
   "metadata": {},
   "outputs": [
    {
     "name": "stdout",
     "output_type": "stream",
     "text": [
      "                  precision    recall  f1-score   support\n",
      "\n",
      "          BENIGN     0.9709    1.0000    0.9852       600\n",
      "             Bot     1.0000    0.8200    0.9011       100\n",
      "        PortScan     1.0000    0.4600    0.6301       100\n",
      "            DDoS     0.8969    1.0000    0.9456       400\n",
      "      Web Attack     0.0000    0.0000    0.0000         0\n",
      "    Infiltration     0.0000    0.0000    0.0000         0\n",
      "   DoS GoldenEye     0.0000    0.0000    0.0000         0\n",
      "        DoS Hulk     0.0000    0.0000    0.0000         0\n",
      "DoS Slowhttptest     0.0000    0.0000    0.0000         0\n",
      "   DoS slowloris     0.0000    0.0000    0.0000         0\n",
      "      Heartbleed     0.0000    0.0000    0.0000         0\n",
      "     FTP-Patator     0.0000    0.0000    0.0000         0\n",
      "     SSH-Patator     0.0000    0.0000    0.0000         0\n",
      "\n",
      "       micro avg     0.9400    0.9400    0.9400      1200\n",
      "       macro avg     0.2975    0.2523    0.2663      1200\n",
      "    weighted avg     0.9511    0.9400    0.9354      1200\n",
      "\n"
     ]
    }
   ],
   "source": [
    "from sklearn.metrics import classification_report\n",
    "\n",
    "print(classification_report(label_buffer, labelled_predictions, \n",
    "                            labels=label_mapping, \n",
    "                            target_names=label_mapping,\n",
    "                            digits=4,\n",
    "                            zero_division=0\n",
    "                           ))"
   ]
  },
  {
   "cell_type": "code",
   "execution_count": null,
   "id": "fba049a8",
   "metadata": {},
   "outputs": [],
   "source": []
  }
 ],
 "metadata": {
  "kernelspec": {
   "display_name": "Python 3 (ipykernel)",
   "language": "python",
   "name": "python3"
  },
  "language_info": {
   "codemirror_mode": {
    "name": "ipython",
    "version": 3
   },
   "file_extension": ".py",
   "mimetype": "text/x-python",
   "name": "python",
   "nbconvert_exporter": "python",
   "pygments_lexer": "ipython3",
   "version": "3.8.10"
  }
 },
 "nbformat": 4,
 "nbformat_minor": 5
}
